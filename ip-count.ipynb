{
 "cells": [
  {
   "cell_type": "code",
   "execution_count": 60,
   "metadata": {},
   "outputs": [],
   "source": [
    "def loader(v):\n",
    "    with open(f\"ip{v}-count-japan.csv\", 'r') as f :\n",
    "        data = f.read().strip().split(\"\\n\")\n",
    "    return data"
   ]
  },
  {
   "cell_type": "code",
   "execution_count": 69,
   "metadata": {},
   "outputs": [
    {
     "name": "stdout",
     "output_type": "stream",
     "text": [
      "v4 2081396\n",
      "v6 3635546\n",
      "5716942\n"
     ]
    }
   ],
   "source": [
    "data = dict()\n",
    "for v in ['v4', 'v6']:\n",
    "    d = loader(v)\n",
    "    total_unique_ip = 0\n",
    "    ip_counter = []\n",
    "    for row in d[1:] :\n",
    "        asn, ip_count = row.split(',')\n",
    "        if asn == \"\" or ip_count == \"\":\n",
    "            continue\n",
    "        ip_counter.append( (int(ip_count), asn) )\n",
    "        total_unique_ip += int(ip_count)\n",
    "    ip_counter.sort(reverse=True)\n",
    "    data[v] = ip_counter\n",
    "    print(v,total_unique_ip)\n",
    "print(2081396+3635546)"
   ]
  },
  {
   "cell_type": "code",
   "execution_count": 62,
   "metadata": {},
   "outputs": [],
   "source": [
    "# from collections import defaultdict\n",
    "# unique = defaultdict(lambda: [set(), set()])\n",
    "# total_unique = [set(), set()]\n",
    "# with open('all_ip.csv','r') as f :\n",
    "#     line = f.readline()\n",
    "#     while line :\n",
    "#         ASNumber,IP = line.strip().split(\",\")\n",
    "#         IP = IP.strip()\n",
    "#         if \":\" in IP:\n",
    "#             total_unique[1].add(IP)\n",
    "#             unique[ASNumber][1].add(IP)\n",
    "#         else :\n",
    "#             total_unique[0].add(IP)\n",
    "#             unique[ASNumber][0].add(IP)\n",
    "#         line = f.readline()"
   ]
  },
  {
   "cell_type": "code",
   "execution_count": 68,
   "metadata": {},
   "outputs": [],
   "source": [
    "# v4 = v6 = 0\n",
    "# for asn in unique:\n",
    "#     v4 += len(unique[asn][0])\n",
    "#     v6 += len(unique[asn][1])\n",
    "# print('v4', len(total_unique[0]))\n",
    "# print('v6', len(total_unique[1]))"
   ]
  },
  {
   "cell_type": "code",
   "execution_count": 66,
   "metadata": {},
   "outputs": [
    {
     "name": "stdout",
     "output_type": "stream",
     "text": [
      "v6\n",
      "IP_count, ASN\n",
      "(1329868, '2516')\n",
      "(589150, '4713')\n",
      "(509113, '17676')\n",
      "(311622, '2527')\n",
      "(206217, '2518')\n",
      "(128512, '138384')\n",
      "(108336, '4685')\n",
      "(95224, '55391')\n",
      "(76213, '17511')\n",
      "(51941, '2497')\n"
     ]
    }
   ],
   "source": [
    "print('v6')\n",
    "print(\"IP_count, ASN\")\n",
    "for x in data['v6'][:10]:\n",
    "    print(x)"
   ]
  },
  {
   "cell_type": "code",
   "execution_count": 67,
   "metadata": {},
   "outputs": [
    {
     "name": "stdout",
     "output_type": "stream",
     "text": [
      "v4\n",
      "IP_count, ASN\n",
      "(543266, '17676')\n",
      "(383910, '4713')\n",
      "(178142, '2516')\n",
      "(91967, '2527')\n",
      "(78036, '9824')\n",
      "(77151, '17511')\n",
      "(70252, '9605')\n",
      "(60650, '2518')\n",
      "(60456, '2519')\n",
      "(52512, '2497')\n"
     ]
    }
   ],
   "source": [
    "print('v4')\n",
    "print(\"IP_count, ASN\")\n",
    "for x in data['v4'][:10]:\n",
    "    print(x)"
   ]
  },
  {
   "cell_type": "code",
   "execution_count": null,
   "metadata": {},
   "outputs": [],
   "source": []
  }
 ],
 "metadata": {
  "kernelspec": {
   "display_name": "Python 3",
   "language": "python",
   "name": "python3"
  },
  "language_info": {
   "codemirror_mode": {
    "name": "ipython",
    "version": 3
   },
   "file_extension": ".py",
   "mimetype": "text/x-python",
   "name": "python",
   "nbconvert_exporter": "python",
   "pygments_lexer": "ipython3",
   "version": "3.7.4"
  }
 },
 "nbformat": 4,
 "nbformat_minor": 4
}
