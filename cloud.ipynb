{
 "cells": [
  {
   "cell_type": "code",
   "execution_count": 20,
   "metadata": {},
   "outputs": [],
   "source": [
    "f = open('result.txt','r')\n",
    "N = 101\n",
    "data = [ [] for _ in range(N) ]\n",
    "for l in f.readlines() :\n",
    "    n, t = map(int, l.split(\" \"))\n",
    "    data[n].append(t)"
   ]
  },
  {
   "cell_type": "code",
   "execution_count": 21,
   "metadata": {},
   "outputs": [],
   "source": [
    "y = []\n",
    "x = []\n",
    "for i in range(N):\n",
    "    data[i].sort()\n",
    "    y.append( data[i][50]/1000 )\n",
    "    x.append(i)"
   ]
  },
  {
   "cell_type": "code",
   "execution_count": 29,
   "metadata": {},
   "outputs": [
    {
     "data": {
      "text/plain": [
       "[<matplotlib.lines.Line2D at 0x7f65181dda10>]"
      ]
     },
     "execution_count": 29,
     "metadata": {},
     "output_type": "execute_result"
    },
    {
     "data": {
      "image/png": "[encoded data removed]",
      "text/plain": [
       "<Figure size 1100x550 with 1 Axes>"
      ]
     },
     "metadata": {
      "needs_background": "light"
     },
     "output_type": "display_data"
    }
   ],
   "source": [
    "import matplotlib.pyplot as plt\n",
    "fig = plt.figure(figsize=(10,5), dpi=110)\n",
    "ax = fig.add_subplot(111)\n",
    "ax.set_xlabel(\"Warmup time (N)\")\n",
    "ax.set_ylabel(\"Execution time (microsec)\")\n",
    "ax.grid()\n",
    "# ax.set_xticks(list(range(11)))\n",
    "ax.plot(x,y,'o-', linewidth=3)"
   ]
  },
  {
   "cell_type": "code",
   "execution_count": 33,
   "metadata": {},
   "outputs": [
    {
     "name": "stdout",
     "output_type": "stream",
     "text": [
      "1.0\n",
      "2.50365647356242\n",
      "5.355934688605049\n",
      "15.604617457122488\n",
      "59.4487733767336\n"
     ]
    }
   ],
   "source": [
    "d = [0, 1,2,10,50]\n",
    "for i in range(5) :\n",
    "    print(data[0][50]/data[d[i]][50])"
   ]
  },
  {
   "cell_type": "code",
   "execution_count": 34,
   "metadata": {},
   "outputs": [],
   "source": [
    "def summarize_asn(self, ases, year, period, interval=None):\n",
    "        [st, end] = period \n",
    "        res = dict()\n",
    "\n",
    "        ticklabels = []\n",
    "        cur = st\n",
    "        fmt = \"%d/%m\"\n",
    "        while cur<end:\n",
    "            _next = cur.add_interval(interval)\n",
    "            if cur.m == _next.m :\n",
    "                ticklabels.append(f\"{cur.to_str('%d')}-{_next.to_str(fmt)}\")\n",
    "            else :\n",
    "                ticklabels.append(f\"{cur.to_str(fmt)}-{_next.to_str(fmt)}\")\n",
    "            cur = _next\n",
    "        \n",
    "        for asn in ases :\n",
    "            n = len(self.data[asn][year])\n",
    "            d = sorted(self.data[asn][year])\n",
    "\n",
    "            i = 0\n",
    "            cur = st\n",
    "            _res = []\n",
    "            while cur < end:\n",
    "                while i < n and d[i][0] < cur.get_index() :\n",
    "                    i += 1\n",
    "                j = i\n",
    "\n",
    "                _next = cur.add_interval(interval)\n",
    "                while j < n and d[j][0] <= _next.get_index() :\n",
    "                    j += 1\n",
    "\n",
    "                _res.append( self.find_below_median(d[i:j], self.median[asn]) )\n",
    "\n",
    "                i = j\n",
    "                cur = _next \n",
    "                \n",
    "            res[asn] = _res\n",
    "        return res, ticklabels"
   ]
  },
  {
   "cell_type": "code",
   "execution_count": null,
   "metadata": {},
   "outputs": [],
   "source": []
  },
  {
   "cell_type": "code",
   "execution_count": null,
   "metadata": {},
   "outputs": [],
   "source": [
    " def find_below_median(self, data, median):\n",
    "        total_data_point = 0\n",
    "        below_median = 0\n",
    "        for idx, v in data:\n",
    "            if v < median:\n",
    "                below_median += 1\n",
    "            total_data_point += 1\n",
    "        return [ below_median, total_data_point]"
   ]
  },
  {
   "cell_type": "code",
   "execution_count": 42,
   "metadata": {},
   "outputs": [
    {
     "data": {
      "text/plain": [
       "10"
      ]
     },
     "execution_count": 42,
     "metadata": {},
     "output_type": "execute_result"
    }
   ],
   "source": [
    "class Foo:\n",
    "    banana=10\n",
    "    def print(self):\n",
    "        print(banana)\n",
    "    \n",
    "Foo().banana"
   ]
  },
  {
   "cell_type": "code",
   "execution_count": null,
   "metadata": {},
   "outputs": [],
   "source": []
  }
 ],
 "metadata": {
  "kernelspec": {
   "display_name": "Python 3",
   "language": "python",
   "name": "python3"
  },
  "language_info": {
   "codemirror_mode": {
    "name": "ipython",
    "version": 3
   },
   "file_extension": ".py",
   "mimetype": "text/x-python",
   "name": "python",
   "nbconvert_exporter": "python",
   "pygments_lexer": "ipython3",
   "version": "3.7.4"
  }
 },
 "nbformat": 4,
 "nbformat_minor": 4
}
